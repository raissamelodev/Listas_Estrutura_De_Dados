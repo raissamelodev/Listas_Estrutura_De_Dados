{
  "nbformat": 4,
  "nbformat_minor": 0,
  "metadata": {
    "colab": {
      "provenance": [],
      "authorship_tag": "ABX9TyO9Mti0rD7eNo9sYIaGbqKn",
      "include_colab_link": true
    },
    "kernelspec": {
      "name": "python3",
      "display_name": "Python 3"
    },
    "language_info": {
      "name": "python"
    }
  },
  "cells": [
    {
      "cell_type": "markdown",
      "metadata": {
        "id": "view-in-github",
        "colab_type": "text"
      },
      "source": [
        "<a href=\"https://colab.research.google.com/github/raissamelodev/Listas_Estrutura_De_Dados/blob/main/Lista04_Nisston.ipynb\" target=\"_parent\"><img src=\"https://colab.research.google.com/assets/colab-badge.svg\" alt=\"Open In Colab\"/></a>"
      ]
    },
    {
      "cell_type": "markdown",
      "source": [
        "1. Escreva uma função em Python para ordenar um vetor de inteiros em ordem crescente usando o\n",
        "algoritmo de seleção."
      ],
      "metadata": {
        "id": "myDTH2YqgKUt"
      }
    },
    {
      "cell_type": "code",
      "execution_count": 2,
      "metadata": {
        "colab": {
          "base_uri": "https://localhost:8080/"
        },
        "id": "S92w8H9lgDcz",
        "outputId": "72dffa86-2f78-4535-bc7f-6df759afd0c8"
      },
      "outputs": [
        {
          "output_type": "stream",
          "name": "stdout",
          "text": [
            "[1, 2, 3, 4, 5, 6, 7, 8, 9, 10]\n"
          ]
        }
      ],
      "source": [
        "def ordenar(vetor):\n",
        "  for i in range(len(vetor)):\n",
        "    indice_minimo = i\n",
        "    for indice_corrente in range(i+1,len(vetor)):\n",
        "      if vetor[indice_minimo] > vetor[indice_corrente]:\n",
        "        indice_minimo = indice_corrente\n",
        "    aux = vetor[i]\n",
        "    vetor[i] = vetor[indice_minimo]\n",
        "    vetor[indice_minimo] = aux\n",
        "  return vetor\n",
        "\n",
        "vetor = [6,2,9,8,4,3,5,10,1,7]\n",
        "ordenado = ordenar(vetor)\n",
        "print(ordenado)"
      ]
    },
    {
      "cell_type": "markdown",
      "source": [
        "2. Escreva uma função em Python para ordenar um vetor de inteiros, ele deve receber um parâmetro que\n",
        "serve como chave para realizar a ordenação crescente ou decrescente."
      ],
      "metadata": {
        "id": "rr-e6AU4gJqE"
      }
    },
    {
      "cell_type": "code",
      "source": [
        "def ordenar(vetor, chave = 'crescente'):\n",
        "    def ordem(vetor, chave):\n",
        "        for i in range(len(vetor)):\n",
        "            indice_minimo = i\n",
        "            for indice_corrente in range(i+1, len(vetor)):\n",
        "                if (chave == 'crescente' and vetor[indice_corrente] < vetor[indice_minimo]) or (chave == 'decrescente' and vetor[indice_corrente] > vetor[indice_minimo]):\n",
        "                    indice_minimo = indice_corrente\n",
        "            aux = vetor[i]\n",
        "            vetor[i] = vetor[indice_minimo]\n",
        "            vetor[indice_minimo] = aux\n",
        "        return vetor\n",
        "\n",
        "    return ordem(vetor, chave)\n",
        "\n",
        "vetor = [6,5,1,10,4,3,8,9,2,7]\n",
        "\n",
        "print(ordenar(vetor))\n",
        "print(ordenar(vetor, chave='decrescente'))"
      ],
      "metadata": {
        "colab": {
          "base_uri": "https://localhost:8080/"
        },
        "id": "0TgaG7Skg_Cb",
        "outputId": "593dac4a-dc85-4bc0-9d64-287cdf83a1f5"
      },
      "execution_count": 3,
      "outputs": [
        {
          "output_type": "stream",
          "name": "stdout",
          "text": [
            "[1, 2, 3, 4, 5, 6, 7, 8, 9, 10]\n",
            "[10, 9, 8, 7, 6, 5, 4, 3, 2, 1]\n"
          ]
        }
      ]
    },
    {
      "cell_type": "markdown",
      "source": [
        "3. Escreva um programa que encontre o elemento máximo em um vetor de inteiros não ordenado sem\n",
        "usar a função `max()`. Em seguida, encontre o elemento mínimo sem usar a função `min()`."
      ],
      "metadata": {
        "id": "w7NUCo-3gVXF"
      }
    },
    {
      "cell_type": "code",
      "source": [
        "def maior(vetor):\n",
        "  max = vetor[0]\n",
        "  for num in vetor:\n",
        "    if num > max:\n",
        "      max = num\n",
        "  return max\n",
        "\n",
        "def menor(vetor):\n",
        "  min = vetor[0]\n",
        "  for num in vetor:\n",
        "    if num < min:\n",
        "      min = num\n",
        "  return min\n",
        "\n",
        "vetor = [6,5,1,10,4,3,8,9,2,7]\n",
        "maior_numero = maior(vetor)\n",
        "menor_numero = menor(vetor)\n",
        "\n",
        "print(f\"Maior número: {maior_numero}\")\n",
        "print(f\"Menor número: {menor_numero}\")"
      ],
      "metadata": {
        "colab": {
          "base_uri": "https://localhost:8080/"
        },
        "id": "vWGoSKTkhW-7",
        "outputId": "85676167-76f6-4296-f2db-6f2edac3de26"
      },
      "execution_count": 4,
      "outputs": [
        {
          "output_type": "stream",
          "name": "stdout",
          "text": [
            "Maior número: 10\n",
            "Menor número: 1\n"
          ]
        }
      ]
    },
    {
      "cell_type": "markdown",
      "source": [
        "4. Crie uma função que recebe um vetor de números inteiros e retorna o segundo menor número.\n",
        "Certifique-se de que sua função funcione mesmo se houver números duplicados no vetor."
      ],
      "metadata": {
        "id": "_F0IXd5kgYfI"
      }
    },
    {
      "cell_type": "code",
      "source": [
        "def menor(vetor):\n",
        "\n",
        "  min = vetor[0]\n",
        "  for num in vetor:\n",
        "    if num < min:\n",
        "      min = num\n",
        "  vetor.remove(min)\n",
        "  min = vetor[0]\n",
        "  for num in vetor:\n",
        "    if num < min:\n",
        "      min = num\n",
        "  return min\n",
        "\n",
        "vetor = [2,4,5,9,9,6,1,3,5,10,6,7]\n",
        "vetor_limpo = list(set(vetor))\n",
        "\n",
        "print(vetor_limpo)\n",
        "\n",
        "menor_numero = menor(vetor)\n",
        "print(f\"O segundo menor número é: {menor_numero}\")"
      ],
      "metadata": {
        "colab": {
          "base_uri": "https://localhost:8080/"
        },
        "id": "BMyKQSXNhlRu",
        "outputId": "92c79c6f-11ee-4a7f-d8ab-1cb6bcb734c2"
      },
      "execution_count": 8,
      "outputs": [
        {
          "output_type": "stream",
          "name": "stdout",
          "text": [
            "[1, 2, 3, 4, 5, 6, 7, 9, 10]\n",
            "O segundo menor número é: 2\n"
          ]
        }
      ]
    },
    {
      "cell_type": "markdown",
      "source": [
        "5. Implemente uma função que aceite um vetor de números inteiros e remova todos os elementos\n",
        "duplicados, retornando o vetor resultante sem duplicatas."
      ],
      "metadata": {
        "id": "JP8OpRhnga98"
      }
    },
    {
      "cell_type": "code",
      "source": [
        "vetor = [2,2,5,9,9,5,1,3,5,1,2,7]\n",
        "print(vetor)\n",
        "\n",
        "def remover_duplicados(vetor):\n",
        "  return list(set(vetor))\n",
        "\n",
        "print(remover_duplicados(vetor))"
      ],
      "metadata": {
        "colab": {
          "base_uri": "https://localhost:8080/"
        },
        "id": "knkrSsOUiHY_",
        "outputId": "0ea26060-1b9d-42e5-f342-caa0fbefbcb8"
      },
      "execution_count": 10,
      "outputs": [
        {
          "output_type": "stream",
          "name": "stdout",
          "text": [
            "[2, 2, 5, 9, 9, 5, 1, 3, 5, 1, 2, 7]\n",
            "[1, 2, 3, 5, 7, 9]\n"
          ]
        }
      ]
    },
    {
      "cell_type": "markdown",
      "source": [
        "6. Escreva um programa que ordene um vetor de inteiros em ordem decrescente e, em seguida, conte\n",
        "quantos números pares e quantos números ímpares existem no vetor ordenado."
      ],
      "metadata": {
        "id": "repQlzoggdv6"
      }
    },
    {
      "cell_type": "code",
      "source": [
        "def ordenar_contar(vetor):\n",
        "  vetor.sort(reverse=True)\n",
        "  pares = sum(1 for num in vetor if num %2 == 0)\n",
        "  impares = sum(1 for num in vetor if num %2 != 0)\n",
        "\n",
        "  return vetor, pares, impares\n",
        "\n",
        "vetor = [0,6,5,1,10,4,3,8,9,2,7]\n",
        "vetor_ordenado, qtd_pares, qtd_impares = ordenar_contar(vetor)\n",
        "\n",
        "print(f\"Vetor ordenado de forma decrescente: {vetor_ordenado}\")\n",
        "print(f\"Quantidade de números pares: {qtd_pares}\")\n",
        "print(f\"Quantidade de números ímpares: {qtd_impares}\")"
      ],
      "metadata": {
        "colab": {
          "base_uri": "https://localhost:8080/"
        },
        "id": "n2p9TRGlicqc",
        "outputId": "7b09d52d-4777-4a25-e91d-626b62e6154b"
      },
      "execution_count": 13,
      "outputs": [
        {
          "output_type": "stream",
          "name": "stdout",
          "text": [
            "Vetor ordenado de forma decrescente: [10, 9, 8, 7, 6, 5, 4, 3, 2, 1, 0]\n",
            "Quantidade de números pares: 6\n",
            "Quantidade de números ímpares: 5\n"
          ]
        }
      ]
    },
    {
      "cell_type": "markdown",
      "source": [
        "7. Crie uma função que aceite um vetor de números inteiros e retorne o terceiro maior número.\n",
        "Certifique-se de que sua função funcione mesmo se houver números duplicados no vetor."
      ],
      "metadata": {
        "id": "E06Il926gh_h"
      }
    },
    {
      "cell_type": "markdown",
      "source": [
        "8. Crie uma função que receba um vetor de números inteiros e retorne a mediana, ou seja, o valor do\n",
        "meio quando o vetor é ordenado. Certifique-se de que sua função funcione para vetores com um\n",
        "número ímpar de elementos."
      ],
      "metadata": {
        "id": "--JIOexlgjo2"
      }
    }
  ]
}