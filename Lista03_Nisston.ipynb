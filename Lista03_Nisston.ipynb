{
  "nbformat": 4,
  "nbformat_minor": 0,
  "metadata": {
    "colab": {
      "provenance": [],
      "authorship_tag": "ABX9TyPBc0JQyFUuAbZt8kt8+lgJ",
      "include_colab_link": true
    },
    "kernelspec": {
      "name": "python3",
      "display_name": "Python 3"
    },
    "language_info": {
      "name": "python"
    }
  },
  "cells": [
    {
      "cell_type": "markdown",
      "metadata": {
        "id": "view-in-github",
        "colab_type": "text"
      },
      "source": [
        "<a href=\"https://colab.research.google.com/github/raissamelodev/Listas_Estrutura_De_Dados/blob/main/Lista03_Nisston.ipynb\" target=\"_parent\"><img src=\"https://colab.research.google.com/assets/colab-badge.svg\" alt=\"Open In Colab\"/></a>"
      ]
    },
    {
      "cell_type": "markdown",
      "source": [
        "1. Escreva um programa que cria uma lista de números inteiros e exibe o maior número da lista.\n"
      ],
      "metadata": {
        "id": "YTkqlGv8Lu0W"
      }
    },
    {
      "cell_type": "code",
      "execution_count": 1,
      "metadata": {
        "colab": {
          "base_uri": "https://localhost:8080/"
        },
        "id": "CWj_2dIXLdGI",
        "outputId": "cb7bb354-5fda-4cf2-c3d2-03d125017f4b"
      },
      "outputs": [
        {
          "output_type": "stream",
          "name": "stdout",
          "text": [
            "Os valores são: [10, 20, 30, 40, 50]\n",
            "O maior valor é: 50\n"
          ]
        }
      ],
      "source": [
        "lista_valores = list(range(10, 60, 10))\n",
        "\n",
        "print(f'Os valores são: {lista_valores}')\n",
        "\n",
        "maior_valor = lista_valores[0]\n",
        "\n",
        "for valor in lista_valores:\n",
        "    if valor > maior_valor:\n",
        "        maior_valor = valor\n",
        "\n",
        "print(f'O maior valor é: {maior_valor}')"
      ]
    },
    {
      "cell_type": "markdown",
      "source": [
        "2. Escreva um programa que cria uma lista de nomes e exibe o número total de nomes na lista."
      ],
      "metadata": {
        "id": "3A86OoN9MI8v"
      }
    },
    {
      "cell_type": "code",
      "source": [
        "lista = [\"Raissa\", \"Thiago\", \"Carol\", \"Theo\", \"Karina\"]\n",
        "\n",
        "total_nomes = len(lista)\n",
        "\n",
        "print(f'O número total de nome é: {total_nomes}')"
      ],
      "metadata": {
        "colab": {
          "base_uri": "https://localhost:8080/"
        },
        "id": "yJc7AG5xLhaD",
        "outputId": "eb57b62c-1841-4496-b2fa-26e82fd533ac"
      },
      "execution_count": 2,
      "outputs": [
        {
          "output_type": "stream",
          "name": "stdout",
          "text": [
            "O número total de nome é: 5\n"
          ]
        }
      ]
    },
    {
      "cell_type": "markdown",
      "source": [
        "3. Escreva um programa que cria uma lista de números inteiros e exibe a soma de todos os números da\n",
        "lista."
      ],
      "metadata": {
        "id": "gRt_RFygMmI9"
      }
    },
    {
      "cell_type": "code",
      "source": [
        "num_inteiro = list(range(1,15,1))\n",
        "\n",
        "soma = 0\n",
        "\n",
        "for numero in num_inteiro:\n",
        "    soma +=numero\n",
        "\n",
        "print(soma)"
      ],
      "metadata": {
        "colab": {
          "base_uri": "https://localhost:8080/"
        },
        "id": "_ccrPTTwNE01",
        "outputId": "b471e553-77ae-4f67-9859-a2c279ce3e51"
      },
      "execution_count": 5,
      "outputs": [
        {
          "output_type": "stream",
          "name": "stdout",
          "text": [
            "105\n"
          ]
        }
      ]
    },
    {
      "cell_type": "markdown",
      "source": [
        "4. Escreva um programa que cria uma lista de números inteiros e exibe a média dos números da lista.\n"
      ],
      "metadata": {
        "id": "QpB6gylzMsFI"
      }
    },
    {
      "cell_type": "code",
      "source": [
        "soma = 0\n",
        "contador = 0\n",
        "\n",
        "for numero in num_inteiro:\n",
        "    soma += numero\n",
        "    contador +=1\n",
        "\n",
        "media = soma/contador\n",
        "\n",
        "print(f'Média: {media}')"
      ],
      "metadata": {
        "colab": {
          "base_uri": "https://localhost:8080/"
        },
        "id": "kZDmtlFhNUOh",
        "outputId": "bf3b93e3-f6a8-4086-fa59-5886bbad41d7"
      },
      "execution_count": 6,
      "outputs": [
        {
          "output_type": "stream",
          "name": "stdout",
          "text": [
            "Média: 7.5\n"
          ]
        }
      ]
    },
    {
      "cell_type": "markdown",
      "source": [
        "5. Escreva um programa que cria uma lista de palavras e exibe a quantidade de palavras que começam\n",
        "com a letra 'A'."
      ],
      "metadata": {
        "id": "op6kIZlNMvKl"
      }
    },
    {
      "cell_type": "code",
      "source": [
        "def contar_palavras_a(lista):\n",
        "    contador = 0\n",
        "    for palavra in lista:\n",
        "        if palavra.startswith('A') or palavra.startswith('a'):\n",
        "            contador += 1\n",
        "    return contador\n",
        "lista_palavras = [\"Almondegas\", \"Aliança\", \"Azul\", \"Anel\", \"Varias\"]\n",
        "print(\"Quantidade de palavras que começam com 'A':\", contar_palavras_a(lista_palavras))"
      ],
      "metadata": {
        "colab": {
          "base_uri": "https://localhost:8080/"
        },
        "id": "NClRn_8MNjHk",
        "outputId": "9d8e468a-df46-4f54-b05b-190d360602ba"
      },
      "execution_count": 8,
      "outputs": [
        {
          "output_type": "stream",
          "name": "stdout",
          "text": [
            "Quantidade de palavras que começam com 'A': 4\n"
          ]
        }
      ]
    },
    {
      "cell_type": "markdown",
      "source": [
        "6. Escreva um programa que cria uma lista de strings e exibe a mais longa palavra da lista."
      ],
      "metadata": {
        "id": "kuhziGELM_P9"
      }
    },
    {
      "cell_type": "code",
      "source": [
        "def achar_mais_longa(lista):\n",
        "    mais_longa = \"\"\n",
        "    for palavra in lista:\n",
        "        if len(palavra) > len(mais_longa):\n",
        "            mais_longa = palavra\n",
        "    return mais_longa\n",
        "print(\"A palavra mais longa é:\", achar_mais_longa(lista_palavras))"
      ],
      "metadata": {
        "colab": {
          "base_uri": "https://localhost:8080/"
        },
        "id": "EAZ2A_sVOExD",
        "outputId": "d792417f-b730-4f62-e7fa-042fb5e44174"
      },
      "execution_count": 9,
      "outputs": [
        {
          "output_type": "stream",
          "name": "stdout",
          "text": [
            "A palavra mais longa é: Almondegas\n"
          ]
        }
      ]
    },
    {
      "cell_type": "markdown",
      "source": [
        "7. Escreva um programa que cria uma lista de números inteiros e exibe os números pares da lista."
      ],
      "metadata": {
        "id": "7j5rytPDM7DQ"
      }
    },
    {
      "cell_type": "code",
      "source": [
        "num_inteiros = range(1,15,1)\n",
        "\n",
        "for i in range(len(num_inteiros)):\n",
        "    if num_inteiros[i]%2 == 0:\n",
        "        print(f'{num_inteiros[i]} é par')"
      ],
      "metadata": {
        "colab": {
          "base_uri": "https://localhost:8080/"
        },
        "id": "Wmd1kkP8OdoA",
        "outputId": "c13c5cda-9499-46c1-e96d-ebd5d3fa2e80"
      },
      "execution_count": 10,
      "outputs": [
        {
          "output_type": "stream",
          "name": "stdout",
          "text": [
            "2 é par\n",
            "4 é par\n",
            "6 é par\n",
            "8 é par\n",
            "10 é par\n",
            "12 é par\n",
            "14 é par\n"
          ]
        }
      ]
    },
    {
      "cell_type": "markdown",
      "source": [
        "8. Escreva um programa que cria uma lista de números inteiros e exibe os números ímpares da lista."
      ],
      "metadata": {
        "id": "5BjmqwZ9M4VN"
      }
    },
    {
      "cell_type": "code",
      "source": [
        "num_inteiros = range(1,15,1)\n",
        "\n",
        "for i in range(len(num_inteiros)):\n",
        "    if num_inteiros[i]%2 == 1:\n",
        "        print(f'{num_inteiros[i]} é ímpar')"
      ],
      "metadata": {
        "colab": {
          "base_uri": "https://localhost:8080/"
        },
        "id": "T-aP5otVO0s3",
        "outputId": "bb506fea-dbbc-45fc-feaf-05f7b355c977"
      },
      "execution_count": 11,
      "outputs": [
        {
          "output_type": "stream",
          "name": "stdout",
          "text": [
            "1 é ímpar\n",
            "3 é ímpar\n",
            "5 é ímpar\n",
            "7 é ímpar\n",
            "9 é ímpar\n",
            "11 é ímpar\n",
            "13 é ímpar\n"
          ]
        }
      ]
    },
    {
      "cell_type": "markdown",
      "source": [
        "9. Escreva um programa que cria duas listas de números inteiros e exibe os números que estão presentes\n",
        "em ambas as listas."
      ],
      "metadata": {
        "id": "KEwlJISmM1OO"
      }
    },
    {
      "cell_type": "code",
      "source": [
        "list1 = [1,6,7,10,12,15]\n",
        "list2 = [1,3,5,10,12]\n",
        "listV = []\n",
        "\n",
        "for n in list1:\n",
        "    if n in list2:\n",
        "        listV.append(n)\n",
        "print(listV)"
      ],
      "metadata": {
        "colab": {
          "base_uri": "https://localhost:8080/"
        },
        "id": "sHFcZRUvPBTs",
        "outputId": "b7ca6107-dad8-4dec-c933-01be1a78eabd"
      },
      "execution_count": 16,
      "outputs": [
        {
          "output_type": "stream",
          "name": "stdout",
          "text": [
            "[1, 10, 12]\n"
          ]
        }
      ]
    },
    {
      "cell_type": "markdown",
      "source": [
        "10. Escreva um programa que cria uma lista de números inteiros e remove todos os números repetidos,\n",
        "exibindo a lista resultante."
      ],
      "metadata": {
        "id": "wpR7Qk_nMymh"
      }
    },
    {
      "cell_type": "code",
      "source": [
        "def remover_repetidos(lista):\n",
        "    lista_limpa = []\n",
        "    for num in lista:\n",
        "        if num not in lista_limpa:\n",
        "            lista_limpa.append(num)\n",
        "    return lista_limpa\n",
        "lista_completa = [1, 1, 3, 3, 5, 5, 8, 10, 12, 12]\n",
        "print(\"Lista atualizada:\", remover_repetidos(lista_completa))"
      ],
      "metadata": {
        "colab": {
          "base_uri": "https://localhost:8080/"
        },
        "id": "uMWvACxAPTqr",
        "outputId": "d8ccecaf-4ab4-4d3d-9287-f6dcf21a3521"
      },
      "execution_count": 17,
      "outputs": [
        {
          "output_type": "stream",
          "name": "stdout",
          "text": [
            "Lista atualizada: [1, 3, 5, 8, 10, 12]\n"
          ]
        }
      ]
    }
  ]
}