{
  "nbformat": 4,
  "nbformat_minor": 0,
  "metadata": {
    "colab": {
      "provenance": [],
      "authorship_tag": "ABX9TyNBYv/6cZHjSRknfw90DrN5",
      "include_colab_link": true
    },
    "kernelspec": {
      "name": "python3",
      "display_name": "Python 3"
    },
    "language_info": {
      "name": "python"
    }
  },
  "cells": [
    {
      "cell_type": "markdown",
      "metadata": {
        "id": "view-in-github",
        "colab_type": "text"
      },
      "source": [
        "<a href=\"https://colab.research.google.com/github/raissamelodev/Listas_Estrutura_De_Dados/blob/main/Lista02_Nisston.ipynb\" target=\"_parent\"><img src=\"https://colab.research.google.com/assets/colab-badge.svg\" alt=\"Open In Colab\"/></a>"
      ]
    },
    {
      "cell_type": "markdown",
      "source": [
        "1. Crie uma classe chamada “Circulo” que tenha um atributo “raio”. Implemente um método chamado\n",
        "“calcular_area” que retorna a área do círculo.\n"
      ],
      "metadata": {
        "id": "A7CpruxoRwAq"
      }
    },
    {
      "cell_type": "code",
      "execution_count": 3,
      "metadata": {
        "colab": {
          "base_uri": "https://localhost:8080/"
        },
        "id": "sIKYDOwkRqfk",
        "outputId": "4338d2f9-f12d-48fb-c30c-8c1b30280548"
      },
      "outputs": [
        {
          "output_type": "stream",
          "name": "stdout",
          "text": [
            "200.96\n"
          ]
        }
      ],
      "source": [
        "class Circulo:\n",
        "  def __init__(self, raio):\n",
        "    self.raio = raio\n",
        "  def calcular_area(self):\n",
        "    return 3.14 * (self.raio ** 2)\n",
        "\n",
        "area = Circulo(8)\n",
        "print(area.calcular_area())"
      ]
    },
    {
      "cell_type": "markdown",
      "source": [
        "2. Crie uma classe chamada “Livro” que tenha atributos “titulo” e “autor”. Implemente um método\n",
        "chamado “detalhes” que retorna uma string com as informações do livro."
      ],
      "metadata": {
        "id": "z-0SQjsPR3Es"
      }
    },
    {
      "cell_type": "code",
      "source": [
        "class Livro:\n",
        "  def __init__(self, titulo, autor):\n",
        "    self.titulo = titulo\n",
        "    self.autor = autor\n",
        "  def detalhes(self):\n",
        "    return f\"Título: {self.titulo}, Autor: {self.autor}\"\n",
        "\n",
        "info = Livro('Curso Intensivo de Python: Uma Introdução Prática e Baseada em Projetos à Programação','ERIC MATTHES' )\n",
        "print(info.detalhes())"
      ],
      "metadata": {
        "colab": {
          "base_uri": "https://localhost:8080/"
        },
        "id": "oPmH2arGSiiq",
        "outputId": "22dfb4b1-4bae-4f7b-d8e5-34aa35497155"
      },
      "execution_count": 4,
      "outputs": [
        {
          "output_type": "stream",
          "name": "stdout",
          "text": [
            "Título: Curso Intensivo de Python: Uma Introdução Prática e Baseada em Projetos à Programação, Autor: ERIC MATTHES\n"
          ]
        }
      ]
    },
    {
      "cell_type": "markdown",
      "source": [
        "3. Crie uma classe chamada “Retangulo” que tenha atributos “base” e “altura”. Implemente um método\n",
        "chamado “calcular_area” que retorna a área do retângulo.\n"
      ],
      "metadata": {
        "id": "UY6vXSj9R6V0"
      }
    },
    {
      "cell_type": "code",
      "source": [
        "class Retangulo:\n",
        "  def __init__(self, base, altura):\n",
        "    self.base = base\n",
        "    self.altura = altura\n",
        "  def calcular_area(self):\n",
        "    return self.base * self.altura\n",
        "\n",
        "calc = Retangulo(6,10)\n",
        "print(calc.calcular_area())"
      ],
      "metadata": {
        "colab": {
          "base_uri": "https://localhost:8080/"
        },
        "id": "r5MpqnarThEk",
        "outputId": "d6bfdda8-4e5c-41a9-8268-a8814b20850e"
      },
      "execution_count": 5,
      "outputs": [
        {
          "output_type": "stream",
          "name": "stdout",
          "text": [
            "60\n"
          ]
        }
      ]
    },
    {
      "cell_type": "markdown",
      "source": [
        "4. Crie uma classe chamada “ContaBancaria” que tenha atributos “saldo” e “titular”. Implemente\n",
        "métodos “depositar” e “sacar” para manipular o saldo."
      ],
      "metadata": {
        "id": "EYZO8eAnR9a-"
      }
    },
    {
      "cell_type": "code",
      "source": [
        "class ContaBancaria:\n",
        "  def __init__(self, saldo, titular):\n",
        "    self.saldo = saldo\n",
        "    self.titular = titular\n",
        "  def depositar(self, valor):\n",
        "    self.saldo += valor\n",
        "    return f\"você depositou: {valor}. Saldo atual: {self.saldo}\"\n",
        "  def sacar(self, valor):\n",
        "    if valor <= self.saldo:\n",
        "      self.saldo -= valor\n",
        "      return f\"Você sacou: {valor}. Saldo atual: {self.saldo}\"\n",
        "    else:\n",
        "      return \"Você não possui saldo suficiente!\"\n",
        "\n",
        "conta = ContaBancaria(5000, 'Raíssa Melo')\n",
        "print(conta.depositar(10000))\n",
        "print(conta.sacar(2000))\n",
        "print(conta.sacar(20000))"
      ],
      "metadata": {
        "colab": {
          "base_uri": "https://localhost:8080/"
        },
        "id": "ts7-IBrKTufL",
        "outputId": "a70e5de7-cfd2-46f3-f260-12bed03b665c"
      },
      "execution_count": 10,
      "outputs": [
        {
          "output_type": "stream",
          "name": "stdout",
          "text": [
            "você depositou: 10000. Saldo atual: 15000\n",
            "Você sacou: 2000. Saldo atual: 13000\n",
            "Você não possui saldo suficiente!\n"
          ]
        }
      ]
    },
    {
      "cell_type": "markdown",
      "source": [
        "5. Crie uma classe chamada “Pessoa” com atributos “nome” e “idade”. Implemente um método\n",
        "chamado “falar” que imprime uma mensagem com o nome da pessoa."
      ],
      "metadata": {
        "id": "0yX1xED0SBCm"
      }
    },
    {
      "cell_type": "code",
      "source": [
        "class Pessoa:\n",
        "  def __init__(self,nome,idade):\n",
        "    self.nome = nome\n",
        "    self.idade = idade\n",
        "  def falar(self):\n",
        "    print(f'{self.nome}')\n",
        "\n",
        "fala = Pessoa('Raíssa', 31)\n",
        "fala.falar()"
      ],
      "metadata": {
        "colab": {
          "base_uri": "https://localhost:8080/"
        },
        "id": "RchAY-jZU5tx",
        "outputId": "c7c0cee2-fcba-4110-bd7d-28e297afed11"
      },
      "execution_count": 13,
      "outputs": [
        {
          "output_type": "stream",
          "name": "stdout",
          "text": [
            "Raíssa\n"
          ]
        }
      ]
    },
    {
      "cell_type": "markdown",
      "source": [
        "6. Crie uma classe chamada “Produto” com atributos “nome”, “preco” e “quantidade”. Implemente um\n",
        "método chamado “calcular_total” que retorna o valor total do produto (preço * quantidade)."
      ],
      "metadata": {
        "id": "zseOA76lSEus"
      }
    },
    {
      "cell_type": "code",
      "source": [
        "class Produto:\n",
        "  def __init__(self,nome,preco,quant):\n",
        "    self.nome = nome\n",
        "    self.preco = preco\n",
        "    self.quant = quant\n",
        "  def calcular_total(self):\n",
        "    return self.preco * self.quant\n",
        "\n",
        "produto = Produto ('Garrafa Stanley', 180.0, 2)\n",
        "print(f'R$', produto.calcular_total())"
      ],
      "metadata": {
        "colab": {
          "base_uri": "https://localhost:8080/"
        },
        "id": "ONWay7_iVwPd",
        "outputId": "e4922c36-323b-4bdc-dea4-66d563f8b365"
      },
      "execution_count": 17,
      "outputs": [
        {
          "output_type": "stream",
          "name": "stdout",
          "text": [
            "R$ 360.0\n"
          ]
        }
      ]
    },
    {
      "cell_type": "markdown",
      "source": [
        "7. Crie uma classe chamada “Carro” com atributos “marca”, “modelo” e “ano”. Implemente um método\n",
        "chamado “detalhes” que retorna uma string com as informações do carro."
      ],
      "metadata": {
        "id": "LS3cTInESIGe"
      }
    },
    {
      "cell_type": "code",
      "source": [
        "class Carro:\n",
        "  def __init__(self,marca,modelo,ano):\n",
        "    self.marca = marca\n",
        "    self.modelo = modelo\n",
        "    self.ano = ano\n",
        "  def detalhes(self):\n",
        "    return f\"Marca: {self.marca}, Modelo: {self.modelo}, Ano: {self.ano}\"\n",
        "\n",
        "carro = Carro ('Ferrari', 'Spider', '2020')\n",
        "print(carro.detalhes())"
      ],
      "metadata": {
        "colab": {
          "base_uri": "https://localhost:8080/"
        },
        "id": "mGc0skhYW1UQ",
        "outputId": "fa8f0925-0205-4b7a-c909-65b08862b50a"
      },
      "execution_count": 19,
      "outputs": [
        {
          "output_type": "stream",
          "name": "stdout",
          "text": [
            "Marca: Ferrari, Modelo: Spider, Ano: 2020\n"
          ]
        }
      ]
    },
    {
      "cell_type": "markdown",
      "source": [
        "8. Crie uma classe chamada “Aluno” com atributos “nome” e “notas”. Implemente um método chamado\n",
        "“calcular_media” que retorna a média das notas do aluno."
      ],
      "metadata": {
        "id": "PoAx_H41SLBY"
      }
    },
    {
      "cell_type": "code",
      "source": [
        "class Aluno:\n",
        "  def __init__(self, nome, notas=None):\n",
        "    self.nome = nome\n",
        "    self.notas = notas if notas is not None else []\n",
        "\n",
        "  def calcular_media(self):\n",
        "    if not self.notas:\n",
        "      n1 = float(input(f'Digite a nota 1:'))\n",
        "      n2 = float(input(f'Digite a nota 2:'))\n",
        "      n3 = float(input(f'Digite a nota 3:'))\n",
        "      self.notas = [n1, n2, n3]\n",
        "\n",
        "    media = sum(self.notas) / len(self.notas)\n",
        "    return \"{:.2f}\".format(media)\n",
        "\n",
        "aluno = Aluno('Raíssa')\n",
        "print (aluno.calcular_media())\n"
      ],
      "metadata": {
        "colab": {
          "base_uri": "https://localhost:8080/"
        },
        "id": "fP9e_CZEX2uS",
        "outputId": "ac08ad90-1d51-44de-ae2a-42fd1211504b"
      },
      "execution_count": 29,
      "outputs": [
        {
          "output_type": "stream",
          "name": "stdout",
          "text": [
            "Digite a nota 1:10\n",
            "Digite a nota 2:8\n",
            "Digite a nota 3:5\n",
            "7.67\n"
          ]
        }
      ]
    },
    {
      "cell_type": "markdown",
      "source": [
        "9. Crie uma classe chamada “Triangulo” com atributos “lado1”, “lado2” e “lado3”. Implemente um\n",
        "método chamado “calcular_perimetro” que retorna o perímetro do triângulo."
      ],
      "metadata": {
        "id": "_nKzz_rwSOEM"
      }
    },
    {
      "cell_type": "code",
      "source": [
        "class Triangulo:\n",
        "  def __init__(self, lado1, lado2, lado3):\n",
        "    self.lado1 = lado1\n",
        "    self.lado2 = lado2\n",
        "    self.lado3 = lado3\n",
        "  def calcular_perimetro(self):\n",
        "    return self.lado1 + self.lado2 + self.lado3\n",
        "\n",
        "per = Triangulo(6,10,3)\n",
        "print(per.calcular_perimetro())"
      ],
      "metadata": {
        "colab": {
          "base_uri": "https://localhost:8080/"
        },
        "id": "BzGvcEhgbeOD",
        "outputId": "4601cb2d-34a2-4c26-b27d-41902fb2a530"
      },
      "execution_count": 32,
      "outputs": [
        {
          "output_type": "stream",
          "name": "stdout",
          "text": [
            "19\n"
          ]
        }
      ]
    },
    {
      "cell_type": "markdown",
      "source": [
        "10. Crie uma classe chamada “Funcionario” com atributos “nome”, “salario” e “cargo”. Implemente um\n",
        "método chamado “aumentar_salario” que recebe um valor percentual de aumento e atualiza o salário\n",
        "do funcionário."
      ],
      "metadata": {
        "id": "hivcmXAJSQf5"
      }
    },
    {
      "cell_type": "code",
      "source": [
        "class Funcionario:\n",
        "  def __init__(self, nome, salario, cargo):\n",
        "    self.nome = nome\n",
        "    self.salario = salario\n",
        "    self.cargo = cargo\n",
        "  def aumentar_salario(self, perc_aumento):\n",
        "    aumento = self.salario * (1 + perc_aumento / 100)\n",
        "    self.salario = aumento\n",
        "    return aumento\n",
        "\n",
        "func = Funcionario ('Raíssa', 9000, 'Arquiteta')\n",
        "print(func.aumentar_salario(5))"
      ],
      "metadata": {
        "colab": {
          "base_uri": "https://localhost:8080/"
        },
        "id": "rkZLAR9PcWYO",
        "outputId": "81028157-b10f-46cb-9772-c735a0d98318"
      },
      "execution_count": 34,
      "outputs": [
        {
          "output_type": "stream",
          "name": "stdout",
          "text": [
            "9450.0\n"
          ]
        }
      ]
    }
  ]
}